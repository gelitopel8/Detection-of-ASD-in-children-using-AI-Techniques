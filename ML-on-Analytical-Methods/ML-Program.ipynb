{
  "nbformat": 4,
  "nbformat_minor": 0,
  "metadata": {
    "colab": {
      "provenance": []
    },
    "kernelspec": {
      "name": "python3",
      "display_name": "Python 3"
    },
    "language_info": {
      "name": "python"
    }
  },
  "cells": [
    {
      "cell_type": "markdown",
      "source": [
        "Importación de Librerías"
      ],
      "metadata": {
        "id": "fGoA67lvmmA8"
      }
    },
    {
      "cell_type": "code",
      "execution_count": 35,
      "metadata": {
        "id": "6qSQFaCeaene"
      },
      "outputs": [],
      "source": [
        "import tensorflow as tf\n",
        "import pandas as pd\n",
        "import numpy as np\n",
        "import csv\n",
        "from sklearn.model_selection import train_test_split\n",
        "from sklearn.metrics import confusion_matrix\n",
        "from sklearn import metrics\n",
        "import matplotlib.pyplot as plt\n",
        "import seaborn"
      ]
    },
    {
      "cell_type": "markdown",
      "source": [
        "Leer el DataSet desde un archivo .csv\n",
        "\n",
        "IMPORTANTE: Cambios en los valores del DataSet en las variables formato string\n"
      ],
      "metadata": {
        "id": "yolaxNzmmuKF"
      }
    },
    {
      "cell_type": "markdown",
      "source": [
        "\n",
        "Autism: Yes - 1 // No - 0\n"
      ],
      "metadata": {
        "id": "yv1G8D2HnIwH"
      }
    },
    {
      "cell_type": "markdown",
      "source": [
        "\n",
        "Gender: f - 1 // m - 0\n"
      ],
      "metadata": {
        "id": "EBl0-cavnK1U"
      }
    },
    {
      "cell_type": "markdown",
      "source": [
        "\n",
        "Ethnicity:\n",
        "\n",
        "'Middle eastern' - 1\n",
        "'White European' - 2\n",
        "'Hispanic'       - 3\n",
        "'Black'          - 4\n",
        "'Asian'          - 5\n",
        "'South asian'    - 6\n",
        "'Native Indian'  - 7\n",
        "'Others'         - 8\n",
        "'Latino'         - 9\n",
        "'Mixed'          - 10\n",
        "'Pacifica'       - 11\n"
      ],
      "metadata": {
        "id": "1byj31XWnNtT"
      }
    },
    {
      "cell_type": "markdown",
      "source": [
        "Family Member with ASD:\n",
        "\n",
        "'Family Member'            - 0\n",
        "'Health Care Professional' - 1\n",
        "'Self'                     - 2"
      ],
      "metadata": {
        "id": "hj4bxarInR9V"
      }
    },
    {
      "cell_type": "code",
      "source": [
        "dataset = pd.read_csv(\"Toddler Autism dataset July 2018_Mod2.csv\").drop(columns=[\"Case_No\"])\n",
        "dataset.head()"
      ],
      "metadata": {
        "id": "WAFAtst-ah9U",
        "colab": {
          "base_uri": "https://localhost:8080/",
          "height": 223
        },
        "outputId": "0e1d2784-7bfa-479d-d69e-7ae8ec634ba2"
      },
      "execution_count": 36,
      "outputs": [
        {
          "output_type": "execute_result",
          "data": {
            "text/plain": [
              "   A1  A2  A3  A4  A5  A6  A7  A8  A9  A10  Age_mons  Qchat-10-Score  Sex  \\\n",
              "0   0   0   0   0   0   0   1   1   0    1        28               3    1   \n",
              "1   1   1   0   0   0   1   1   0   0    0        36               4    0   \n",
              "2   1   0   0   0   0   0   1   1   0    1        36               4    0   \n",
              "3   1   1   1   1   1   1   1   1   1    1        24              10    0   \n",
              "4   1   1   0   1   1   1   1   1   1    1        20               9    1   \n",
              "\n",
              "   Ethnicity  Jaundice  Family_mem_with_ASD  Who completed the test  \\\n",
              "0          1         1                    0                       0   \n",
              "1          2         1                    0                       0   \n",
              "2          1         1                    0                       0   \n",
              "3          3         0                    0                       0   \n",
              "4          2         0                    1                       0   \n",
              "\n",
              "   Class/ASD Traits   \n",
              "0                  0  \n",
              "1                  1  \n",
              "2                  1  \n",
              "3                  1  \n",
              "4                  1  "
            ],
            "text/html": [
              "\n",
              "  <div id=\"df-3eb1c83a-72e5-4c73-86a4-2e6b0c1c133b\" class=\"colab-df-container\">\n",
              "    <div>\n",
              "<style scoped>\n",
              "    .dataframe tbody tr th:only-of-type {\n",
              "        vertical-align: middle;\n",
              "    }\n",
              "\n",
              "    .dataframe tbody tr th {\n",
              "        vertical-align: top;\n",
              "    }\n",
              "\n",
              "    .dataframe thead th {\n",
              "        text-align: right;\n",
              "    }\n",
              "</style>\n",
              "<table border=\"1\" class=\"dataframe\">\n",
              "  <thead>\n",
              "    <tr style=\"text-align: right;\">\n",
              "      <th></th>\n",
              "      <th>A1</th>\n",
              "      <th>A2</th>\n",
              "      <th>A3</th>\n",
              "      <th>A4</th>\n",
              "      <th>A5</th>\n",
              "      <th>A6</th>\n",
              "      <th>A7</th>\n",
              "      <th>A8</th>\n",
              "      <th>A9</th>\n",
              "      <th>A10</th>\n",
              "      <th>Age_mons</th>\n",
              "      <th>Qchat-10-Score</th>\n",
              "      <th>Sex</th>\n",
              "      <th>Ethnicity</th>\n",
              "      <th>Jaundice</th>\n",
              "      <th>Family_mem_with_ASD</th>\n",
              "      <th>Who completed the test</th>\n",
              "      <th>Class/ASD Traits</th>\n",
              "    </tr>\n",
              "  </thead>\n",
              "  <tbody>\n",
              "    <tr>\n",
              "      <th>0</th>\n",
              "      <td>0</td>\n",
              "      <td>0</td>\n",
              "      <td>0</td>\n",
              "      <td>0</td>\n",
              "      <td>0</td>\n",
              "      <td>0</td>\n",
              "      <td>1</td>\n",
              "      <td>1</td>\n",
              "      <td>0</td>\n",
              "      <td>1</td>\n",
              "      <td>28</td>\n",
              "      <td>3</td>\n",
              "      <td>1</td>\n",
              "      <td>1</td>\n",
              "      <td>1</td>\n",
              "      <td>0</td>\n",
              "      <td>0</td>\n",
              "      <td>0</td>\n",
              "    </tr>\n",
              "    <tr>\n",
              "      <th>1</th>\n",
              "      <td>1</td>\n",
              "      <td>1</td>\n",
              "      <td>0</td>\n",
              "      <td>0</td>\n",
              "      <td>0</td>\n",
              "      <td>1</td>\n",
              "      <td>1</td>\n",
              "      <td>0</td>\n",
              "      <td>0</td>\n",
              "      <td>0</td>\n",
              "      <td>36</td>\n",
              "      <td>4</td>\n",
              "      <td>0</td>\n",
              "      <td>2</td>\n",
              "      <td>1</td>\n",
              "      <td>0</td>\n",
              "      <td>0</td>\n",
              "      <td>1</td>\n",
              "    </tr>\n",
              "    <tr>\n",
              "      <th>2</th>\n",
              "      <td>1</td>\n",
              "      <td>0</td>\n",
              "      <td>0</td>\n",
              "      <td>0</td>\n",
              "      <td>0</td>\n",
              "      <td>0</td>\n",
              "      <td>1</td>\n",
              "      <td>1</td>\n",
              "      <td>0</td>\n",
              "      <td>1</td>\n",
              "      <td>36</td>\n",
              "      <td>4</td>\n",
              "      <td>0</td>\n",
              "      <td>1</td>\n",
              "      <td>1</td>\n",
              "      <td>0</td>\n",
              "      <td>0</td>\n",
              "      <td>1</td>\n",
              "    </tr>\n",
              "    <tr>\n",
              "      <th>3</th>\n",
              "      <td>1</td>\n",
              "      <td>1</td>\n",
              "      <td>1</td>\n",
              "      <td>1</td>\n",
              "      <td>1</td>\n",
              "      <td>1</td>\n",
              "      <td>1</td>\n",
              "      <td>1</td>\n",
              "      <td>1</td>\n",
              "      <td>1</td>\n",
              "      <td>24</td>\n",
              "      <td>10</td>\n",
              "      <td>0</td>\n",
              "      <td>3</td>\n",
              "      <td>0</td>\n",
              "      <td>0</td>\n",
              "      <td>0</td>\n",
              "      <td>1</td>\n",
              "    </tr>\n",
              "    <tr>\n",
              "      <th>4</th>\n",
              "      <td>1</td>\n",
              "      <td>1</td>\n",
              "      <td>0</td>\n",
              "      <td>1</td>\n",
              "      <td>1</td>\n",
              "      <td>1</td>\n",
              "      <td>1</td>\n",
              "      <td>1</td>\n",
              "      <td>1</td>\n",
              "      <td>1</td>\n",
              "      <td>20</td>\n",
              "      <td>9</td>\n",
              "      <td>1</td>\n",
              "      <td>2</td>\n",
              "      <td>0</td>\n",
              "      <td>1</td>\n",
              "      <td>0</td>\n",
              "      <td>1</td>\n",
              "    </tr>\n",
              "  </tbody>\n",
              "</table>\n",
              "</div>\n",
              "    <div class=\"colab-df-buttons\">\n",
              "\n",
              "  <div class=\"colab-df-container\">\n",
              "    <button class=\"colab-df-convert\" onclick=\"convertToInteractive('df-3eb1c83a-72e5-4c73-86a4-2e6b0c1c133b')\"\n",
              "            title=\"Convert this dataframe to an interactive table.\"\n",
              "            style=\"display:none;\">\n",
              "\n",
              "  <svg xmlns=\"http://www.w3.org/2000/svg\" height=\"24px\" viewBox=\"0 -960 960 960\">\n",
              "    <path d=\"M120-120v-720h720v720H120Zm60-500h600v-160H180v160Zm220 220h160v-160H400v160Zm0 220h160v-160H400v160ZM180-400h160v-160H180v160Zm440 0h160v-160H620v160ZM180-180h160v-160H180v160Zm440 0h160v-160H620v160Z\"/>\n",
              "  </svg>\n",
              "    </button>\n",
              "\n",
              "  <style>\n",
              "    .colab-df-container {\n",
              "      display:flex;\n",
              "      gap: 12px;\n",
              "    }\n",
              "\n",
              "    .colab-df-convert {\n",
              "      background-color: #E8F0FE;\n",
              "      border: none;\n",
              "      border-radius: 50%;\n",
              "      cursor: pointer;\n",
              "      display: none;\n",
              "      fill: #1967D2;\n",
              "      height: 32px;\n",
              "      padding: 0 0 0 0;\n",
              "      width: 32px;\n",
              "    }\n",
              "\n",
              "    .colab-df-convert:hover {\n",
              "      background-color: #E2EBFA;\n",
              "      box-shadow: 0px 1px 2px rgba(60, 64, 67, 0.3), 0px 1px 3px 1px rgba(60, 64, 67, 0.15);\n",
              "      fill: #174EA6;\n",
              "    }\n",
              "\n",
              "    .colab-df-buttons div {\n",
              "      margin-bottom: 4px;\n",
              "    }\n",
              "\n",
              "    [theme=dark] .colab-df-convert {\n",
              "      background-color: #3B4455;\n",
              "      fill: #D2E3FC;\n",
              "    }\n",
              "\n",
              "    [theme=dark] .colab-df-convert:hover {\n",
              "      background-color: #434B5C;\n",
              "      box-shadow: 0px 1px 3px 1px rgba(0, 0, 0, 0.15);\n",
              "      filter: drop-shadow(0px 1px 2px rgba(0, 0, 0, 0.3));\n",
              "      fill: #FFFFFF;\n",
              "    }\n",
              "  </style>\n",
              "\n",
              "    <script>\n",
              "      const buttonEl =\n",
              "        document.querySelector('#df-3eb1c83a-72e5-4c73-86a4-2e6b0c1c133b button.colab-df-convert');\n",
              "      buttonEl.style.display =\n",
              "        google.colab.kernel.accessAllowed ? 'block' : 'none';\n",
              "\n",
              "      async function convertToInteractive(key) {\n",
              "        const element = document.querySelector('#df-3eb1c83a-72e5-4c73-86a4-2e6b0c1c133b');\n",
              "        const dataTable =\n",
              "          await google.colab.kernel.invokeFunction('convertToInteractive',\n",
              "                                                    [key], {});\n",
              "        if (!dataTable) return;\n",
              "\n",
              "        const docLinkHtml = 'Like what you see? Visit the ' +\n",
              "          '<a target=\"_blank\" href=https://colab.research.google.com/notebooks/data_table.ipynb>data table notebook</a>'\n",
              "          + ' to learn more about interactive tables.';\n",
              "        element.innerHTML = '';\n",
              "        dataTable['output_type'] = 'display_data';\n",
              "        await google.colab.output.renderOutput(dataTable, element);\n",
              "        const docLink = document.createElement('div');\n",
              "        docLink.innerHTML = docLinkHtml;\n",
              "        element.appendChild(docLink);\n",
              "      }\n",
              "    </script>\n",
              "  </div>\n",
              "\n",
              "\n",
              "<div id=\"df-87f4534b-d048-44e0-8295-cf5868d1fd9a\">\n",
              "  <button class=\"colab-df-quickchart\" onclick=\"quickchart('df-87f4534b-d048-44e0-8295-cf5868d1fd9a')\"\n",
              "            title=\"Suggest charts\"\n",
              "            style=\"display:none;\">\n",
              "\n",
              "<svg xmlns=\"http://www.w3.org/2000/svg\" height=\"24px\"viewBox=\"0 0 24 24\"\n",
              "     width=\"24px\">\n",
              "    <g>\n",
              "        <path d=\"M19 3H5c-1.1 0-2 .9-2 2v14c0 1.1.9 2 2 2h14c1.1 0 2-.9 2-2V5c0-1.1-.9-2-2-2zM9 17H7v-7h2v7zm4 0h-2V7h2v10zm4 0h-2v-4h2v4z\"/>\n",
              "    </g>\n",
              "</svg>\n",
              "  </button>\n",
              "\n",
              "<style>\n",
              "  .colab-df-quickchart {\n",
              "      --bg-color: #E8F0FE;\n",
              "      --fill-color: #1967D2;\n",
              "      --hover-bg-color: #E2EBFA;\n",
              "      --hover-fill-color: #174EA6;\n",
              "      --disabled-fill-color: #AAA;\n",
              "      --disabled-bg-color: #DDD;\n",
              "  }\n",
              "\n",
              "  [theme=dark] .colab-df-quickchart {\n",
              "      --bg-color: #3B4455;\n",
              "      --fill-color: #D2E3FC;\n",
              "      --hover-bg-color: #434B5C;\n",
              "      --hover-fill-color: #FFFFFF;\n",
              "      --disabled-bg-color: #3B4455;\n",
              "      --disabled-fill-color: #666;\n",
              "  }\n",
              "\n",
              "  .colab-df-quickchart {\n",
              "    background-color: var(--bg-color);\n",
              "    border: none;\n",
              "    border-radius: 50%;\n",
              "    cursor: pointer;\n",
              "    display: none;\n",
              "    fill: var(--fill-color);\n",
              "    height: 32px;\n",
              "    padding: 0;\n",
              "    width: 32px;\n",
              "  }\n",
              "\n",
              "  .colab-df-quickchart:hover {\n",
              "    background-color: var(--hover-bg-color);\n",
              "    box-shadow: 0 1px 2px rgba(60, 64, 67, 0.3), 0 1px 3px 1px rgba(60, 64, 67, 0.15);\n",
              "    fill: var(--button-hover-fill-color);\n",
              "  }\n",
              "\n",
              "  .colab-df-quickchart-complete:disabled,\n",
              "  .colab-df-quickchart-complete:disabled:hover {\n",
              "    background-color: var(--disabled-bg-color);\n",
              "    fill: var(--disabled-fill-color);\n",
              "    box-shadow: none;\n",
              "  }\n",
              "\n",
              "  .colab-df-spinner {\n",
              "    border: 2px solid var(--fill-color);\n",
              "    border-color: transparent;\n",
              "    border-bottom-color: var(--fill-color);\n",
              "    animation:\n",
              "      spin 1s steps(1) infinite;\n",
              "  }\n",
              "\n",
              "  @keyframes spin {\n",
              "    0% {\n",
              "      border-color: transparent;\n",
              "      border-bottom-color: var(--fill-color);\n",
              "      border-left-color: var(--fill-color);\n",
              "    }\n",
              "    20% {\n",
              "      border-color: transparent;\n",
              "      border-left-color: var(--fill-color);\n",
              "      border-top-color: var(--fill-color);\n",
              "    }\n",
              "    30% {\n",
              "      border-color: transparent;\n",
              "      border-left-color: var(--fill-color);\n",
              "      border-top-color: var(--fill-color);\n",
              "      border-right-color: var(--fill-color);\n",
              "    }\n",
              "    40% {\n",
              "      border-color: transparent;\n",
              "      border-right-color: var(--fill-color);\n",
              "      border-top-color: var(--fill-color);\n",
              "    }\n",
              "    60% {\n",
              "      border-color: transparent;\n",
              "      border-right-color: var(--fill-color);\n",
              "    }\n",
              "    80% {\n",
              "      border-color: transparent;\n",
              "      border-right-color: var(--fill-color);\n",
              "      border-bottom-color: var(--fill-color);\n",
              "    }\n",
              "    90% {\n",
              "      border-color: transparent;\n",
              "      border-bottom-color: var(--fill-color);\n",
              "    }\n",
              "  }\n",
              "</style>\n",
              "\n",
              "  <script>\n",
              "    async function quickchart(key) {\n",
              "      const quickchartButtonEl =\n",
              "        document.querySelector('#' + key + ' button');\n",
              "      quickchartButtonEl.disabled = true;  // To prevent multiple clicks.\n",
              "      quickchartButtonEl.classList.add('colab-df-spinner');\n",
              "      try {\n",
              "        const charts = await google.colab.kernel.invokeFunction(\n",
              "            'suggestCharts', [key], {});\n",
              "      } catch (error) {\n",
              "        console.error('Error during call to suggestCharts:', error);\n",
              "      }\n",
              "      quickchartButtonEl.classList.remove('colab-df-spinner');\n",
              "      quickchartButtonEl.classList.add('colab-df-quickchart-complete');\n",
              "    }\n",
              "    (() => {\n",
              "      let quickchartButtonEl =\n",
              "        document.querySelector('#df-87f4534b-d048-44e0-8295-cf5868d1fd9a button');\n",
              "      quickchartButtonEl.style.display =\n",
              "        google.colab.kernel.accessAllowed ? 'block' : 'none';\n",
              "    })();\n",
              "  </script>\n",
              "</div>\n",
              "    </div>\n",
              "  </div>\n"
            ],
            "application/vnd.google.colaboratory.intrinsic+json": {
              "type": "dataframe",
              "variable_name": "dataset",
              "summary": "{\n  \"name\": \"dataset\",\n  \"rows\": 1054,\n  \"fields\": [\n    {\n      \"column\": \"A1\",\n      \"properties\": {\n        \"dtype\": \"number\",\n        \"std\": 0,\n        \"min\": 0,\n        \"max\": 1,\n        \"num_unique_values\": 2,\n        \"samples\": [\n          1,\n          0\n        ],\n        \"semantic_type\": \"\",\n        \"description\": \"\"\n      }\n    },\n    {\n      \"column\": \"A2\",\n      \"properties\": {\n        \"dtype\": \"number\",\n        \"std\": 0,\n        \"min\": 0,\n        \"max\": 1,\n        \"num_unique_values\": 2,\n        \"samples\": [\n          1,\n          0\n        ],\n        \"semantic_type\": \"\",\n        \"description\": \"\"\n      }\n    },\n    {\n      \"column\": \"A3\",\n      \"properties\": {\n        \"dtype\": \"number\",\n        \"std\": 0,\n        \"min\": 0,\n        \"max\": 1,\n        \"num_unique_values\": 2,\n        \"samples\": [\n          1,\n          0\n        ],\n        \"semantic_type\": \"\",\n        \"description\": \"\"\n      }\n    },\n    {\n      \"column\": \"A4\",\n      \"properties\": {\n        \"dtype\": \"number\",\n        \"std\": 0,\n        \"min\": 0,\n        \"max\": 1,\n        \"num_unique_values\": 2,\n        \"samples\": [\n          1,\n          0\n        ],\n        \"semantic_type\": \"\",\n        \"description\": \"\"\n      }\n    },\n    {\n      \"column\": \"A5\",\n      \"properties\": {\n        \"dtype\": \"number\",\n        \"std\": 0,\n        \"min\": 0,\n        \"max\": 1,\n        \"num_unique_values\": 2,\n        \"samples\": [\n          1,\n          0\n        ],\n        \"semantic_type\": \"\",\n        \"description\": \"\"\n      }\n    },\n    {\n      \"column\": \"A6\",\n      \"properties\": {\n        \"dtype\": \"number\",\n        \"std\": 0,\n        \"min\": 0,\n        \"max\": 1,\n        \"num_unique_values\": 2,\n        \"samples\": [\n          1,\n          0\n        ],\n        \"semantic_type\": \"\",\n        \"description\": \"\"\n      }\n    },\n    {\n      \"column\": \"A7\",\n      \"properties\": {\n        \"dtype\": \"number\",\n        \"std\": 0,\n        \"min\": 0,\n        \"max\": 1,\n        \"num_unique_values\": 2,\n        \"samples\": [\n          0,\n          1\n        ],\n        \"semantic_type\": \"\",\n        \"description\": \"\"\n      }\n    },\n    {\n      \"column\": \"A8\",\n      \"properties\": {\n        \"dtype\": \"number\",\n        \"std\": 0,\n        \"min\": 0,\n        \"max\": 1,\n        \"num_unique_values\": 2,\n        \"samples\": [\n          0,\n          1\n        ],\n        \"semantic_type\": \"\",\n        \"description\": \"\"\n      }\n    },\n    {\n      \"column\": \"A9\",\n      \"properties\": {\n        \"dtype\": \"number\",\n        \"std\": 0,\n        \"min\": 0,\n        \"max\": 1,\n        \"num_unique_values\": 2,\n        \"samples\": [\n          1,\n          0\n        ],\n        \"semantic_type\": \"\",\n        \"description\": \"\"\n      }\n    },\n    {\n      \"column\": \"A10\",\n      \"properties\": {\n        \"dtype\": \"number\",\n        \"std\": 0,\n        \"min\": 0,\n        \"max\": 1,\n        \"num_unique_values\": 2,\n        \"samples\": [\n          0,\n          1\n        ],\n        \"semantic_type\": \"\",\n        \"description\": \"\"\n      }\n    },\n    {\n      \"column\": \"Age_mons\",\n      \"properties\": {\n        \"dtype\": \"number\",\n        \"std\": 7,\n        \"min\": 12,\n        \"max\": 36,\n        \"num_unique_values\": 25,\n        \"samples\": [\n          25,\n          14\n        ],\n        \"semantic_type\": \"\",\n        \"description\": \"\"\n      }\n    },\n    {\n      \"column\": \"Qchat-10-Score\",\n      \"properties\": {\n        \"dtype\": \"number\",\n        \"std\": 2,\n        \"min\": 0,\n        \"max\": 10,\n        \"num_unique_values\": 11,\n        \"samples\": [\n          5,\n          3\n        ],\n        \"semantic_type\": \"\",\n        \"description\": \"\"\n      }\n    },\n    {\n      \"column\": \"Sex\",\n      \"properties\": {\n        \"dtype\": \"number\",\n        \"std\": 0,\n        \"min\": 0,\n        \"max\": 1,\n        \"num_unique_values\": 2,\n        \"samples\": [\n          0,\n          1\n        ],\n        \"semantic_type\": \"\",\n        \"description\": \"\"\n      }\n    },\n    {\n      \"column\": \"Ethnicity\",\n      \"properties\": {\n        \"dtype\": \"number\",\n        \"std\": 2,\n        \"min\": 1,\n        \"max\": 11,\n        \"num_unique_values\": 11,\n        \"samples\": [\n          6,\n          1\n        ],\n        \"semantic_type\": \"\",\n        \"description\": \"\"\n      }\n    },\n    {\n      \"column\": \"Jaundice\",\n      \"properties\": {\n        \"dtype\": \"number\",\n        \"std\": 0,\n        \"min\": 0,\n        \"max\": 1,\n        \"num_unique_values\": 2,\n        \"samples\": [\n          0,\n          1\n        ],\n        \"semantic_type\": \"\",\n        \"description\": \"\"\n      }\n    },\n    {\n      \"column\": \"Family_mem_with_ASD\",\n      \"properties\": {\n        \"dtype\": \"number\",\n        \"std\": 0,\n        \"min\": 0,\n        \"max\": 1,\n        \"num_unique_values\": 2,\n        \"samples\": [\n          1,\n          0\n        ],\n        \"semantic_type\": \"\",\n        \"description\": \"\"\n      }\n    },\n    {\n      \"column\": \"Who completed the test\",\n      \"properties\": {\n        \"dtype\": \"number\",\n        \"std\": 0,\n        \"min\": 0,\n        \"max\": 8,\n        \"num_unique_values\": 4,\n        \"samples\": [\n          1,\n          8\n        ],\n        \"semantic_type\": \"\",\n        \"description\": \"\"\n      }\n    },\n    {\n      \"column\": \"Class/ASD Traits \",\n      \"properties\": {\n        \"dtype\": \"number\",\n        \"std\": 0,\n        \"min\": 0,\n        \"max\": 1,\n        \"num_unique_values\": 2,\n        \"samples\": [\n          1,\n          0\n        ],\n        \"semantic_type\": \"\",\n        \"description\": \"\"\n      }\n    }\n  ]\n}"
            }
          },
          "metadata": {},
          "execution_count": 36
        }
      ]
    },
    {
      "cell_type": "markdown",
      "source": [
        "Separación entre datos y etiquetas"
      ],
      "metadata": {
        "id": "hY6bpv79pCXg"
      }
    },
    {
      "cell_type": "code",
      "source": [
        "dataset_data = dataset.iloc[:, :-1]\n",
        "dataset_label = dataset.iloc[:, -1]"
      ],
      "metadata": {
        "id": "UOzA0Lt_fh0_"
      },
      "execution_count": 37,
      "outputs": []
    },
    {
      "cell_type": "markdown",
      "source": [
        "Partición de datos para entrenamiento y Test"
      ],
      "metadata": {
        "id": "AAPEgBmcpdbG"
      }
    },
    {
      "cell_type": "code",
      "source": [
        "dataset_train_data , dataset_test_data ,  dataset_train_label , dataset_test_label = train_test_split(dataset_data , dataset_label , test_size=0.2, random_state=42)\n"
      ],
      "metadata": {
        "id": "ciKlNF6qcQ_J"
      },
      "execution_count": 38,
      "outputs": []
    },
    {
      "cell_type": "markdown",
      "source": [
        "Creación del Modelo"
      ],
      "metadata": {
        "id": "_IZLJdidpkQo"
      }
    },
    {
      "cell_type": "code",
      "source": [
        "model = tf.keras.models.Sequential()\n",
        "model.add(tf.keras.layers.Dense(units=17, activation='sigmoid',input_shape=(17, )))\n",
        "model.add(tf.keras.layers.Dense(units=10, activation='sigmoid'))\n",
        "model.add(tf.keras.layers.Dropout(0.1))\n",
        "model.add(tf.keras.layers.Dense(units=10, activation='relu'))\n",
        "model.add(tf.keras.layers.Dense(units=2, activation='softmax'))"
      ],
      "metadata": {
        "id": "L4WSfP3Hdkjb"
      },
      "execution_count": 39,
      "outputs": []
    },
    {
      "cell_type": "markdown",
      "source": [
        "Compilación del modelo"
      ],
      "metadata": {
        "id": "8IKKaFOLpmvu"
      }
    },
    {
      "cell_type": "code",
      "source": [
        "model.compile(optimizer='adam', loss='sparse_categorical_crossentropy', metrics=['sparse_categorical_accuracy'])\n",
        "model.summary()"
      ],
      "metadata": {
        "id": "7VG8HOK6emkc",
        "colab": {
          "base_uri": "https://localhost:8080/"
        },
        "outputId": "9f4614d3-831a-4fab-a4e7-4aa6acaad328"
      },
      "execution_count": 40,
      "outputs": [
        {
          "output_type": "stream",
          "name": "stdout",
          "text": [
            "Model: \"sequential_3\"\n",
            "_________________________________________________________________\n",
            " Layer (type)                Output Shape              Param #   \n",
            "=================================================================\n",
            " dense_12 (Dense)            (None, 17)                306       \n",
            "                                                                 \n",
            " dense_13 (Dense)            (None, 10)                180       \n",
            "                                                                 \n",
            " dropout_3 (Dropout)         (None, 10)                0         \n",
            "                                                                 \n",
            " dense_14 (Dense)            (None, 10)                110       \n",
            "                                                                 \n",
            " dense_15 (Dense)            (None, 2)                 22        \n",
            "                                                                 \n",
            "=================================================================\n",
            "Total params: 618 (2.41 KB)\n",
            "Trainable params: 618 (2.41 KB)\n",
            "Non-trainable params: 0 (0.00 Byte)\n",
            "_________________________________________________________________\n"
          ]
        }
      ]
    },
    {
      "cell_type": "markdown",
      "source": [
        "Entrenamiento del modelo"
      ],
      "metadata": {
        "id": "6OqQ3gL-prvr"
      }
    },
    {
      "cell_type": "code",
      "source": [
        "model.fit(dataset_train_data, dataset_train_label, epochs=20)"
      ],
      "metadata": {
        "id": "Jx4SKCQYeuvk",
        "colab": {
          "base_uri": "https://localhost:8080/"
        },
        "outputId": "bdbce8b6-8d3e-4cfe-ab9b-1c9657e59144"
      },
      "execution_count": 41,
      "outputs": [
        {
          "output_type": "stream",
          "name": "stdout",
          "text": [
            "Epoch 1/20\n",
            "27/27 [==============================] - 1s 2ms/step - loss: 0.6684 - sparse_categorical_accuracy: 0.5931\n",
            "Epoch 2/20\n",
            "27/27 [==============================] - 0s 2ms/step - loss: 0.6198 - sparse_categorical_accuracy: 0.6916\n",
            "Epoch 3/20\n",
            "27/27 [==============================] - 0s 2ms/step - loss: 0.6000 - sparse_categorical_accuracy: 0.6951\n",
            "Epoch 4/20\n",
            "27/27 [==============================] - 0s 3ms/step - loss: 0.5857 - sparse_categorical_accuracy: 0.6963\n",
            "Epoch 5/20\n",
            "27/27 [==============================] - 0s 2ms/step - loss: 0.5636 - sparse_categorical_accuracy: 0.7023\n",
            "Epoch 6/20\n",
            "27/27 [==============================] - 0s 2ms/step - loss: 0.5190 - sparse_categorical_accuracy: 0.7046\n",
            "Epoch 7/20\n",
            "27/27 [==============================] - 0s 2ms/step - loss: 0.4499 - sparse_categorical_accuracy: 0.7888\n",
            "Epoch 8/20\n",
            "27/27 [==============================] - 0s 2ms/step - loss: 0.3675 - sparse_categorical_accuracy: 0.8719\n",
            "Epoch 9/20\n",
            "27/27 [==============================] - 0s 2ms/step - loss: 0.3070 - sparse_categorical_accuracy: 0.9027\n",
            "Epoch 10/20\n",
            "27/27 [==============================] - 0s 2ms/step - loss: 0.2432 - sparse_categorical_accuracy: 0.9336\n",
            "Epoch 11/20\n",
            "27/27 [==============================] - 0s 2ms/step - loss: 0.2202 - sparse_categorical_accuracy: 0.9229\n",
            "Epoch 12/20\n",
            "27/27 [==============================] - 0s 2ms/step - loss: 0.1975 - sparse_categorical_accuracy: 0.9312\n",
            "Epoch 13/20\n",
            "27/27 [==============================] - 0s 2ms/step - loss: 0.1760 - sparse_categorical_accuracy: 0.9371\n",
            "Epoch 14/20\n",
            "27/27 [==============================] - 0s 2ms/step - loss: 0.1418 - sparse_categorical_accuracy: 0.9502\n",
            "Epoch 15/20\n",
            "27/27 [==============================] - 0s 2ms/step - loss: 0.1419 - sparse_categorical_accuracy: 0.9526\n",
            "Epoch 16/20\n",
            "27/27 [==============================] - 0s 3ms/step - loss: 0.1209 - sparse_categorical_accuracy: 0.9573\n",
            "Epoch 17/20\n",
            "27/27 [==============================] - 0s 4ms/step - loss: 0.1132 - sparse_categorical_accuracy: 0.9620\n",
            "Epoch 18/20\n",
            "27/27 [==============================] - 0s 3ms/step - loss: 0.1242 - sparse_categorical_accuracy: 0.9549\n",
            "Epoch 19/20\n",
            "27/27 [==============================] - 0s 4ms/step - loss: 0.0996 - sparse_categorical_accuracy: 0.9668\n",
            "Epoch 20/20\n",
            "27/27 [==============================] - 0s 3ms/step - loss: 0.1021 - sparse_categorical_accuracy: 0.9656\n"
          ]
        },
        {
          "output_type": "execute_result",
          "data": {
            "text/plain": [
              "<keras.src.callbacks.History at 0x7848f8723790>"
            ]
          },
          "metadata": {},
          "execution_count": 41
        }
      ]
    },
    {
      "cell_type": "markdown",
      "source": [
        "Evaluación del modelo sobre la partición del test"
      ],
      "metadata": {
        "id": "4ruDrzaspukZ"
      }
    },
    {
      "cell_type": "code",
      "source": [
        "Test_loss, Test_accuracy = model.evaluate(dataset_test_data, dataset_test_label)\n",
        "dataset_test_predictions = np.argmax(model.predict(dataset_test_data), axis=-1)\n",
        "print(\"Test accuracy: {}\".format(Test_accuracy))"
      ],
      "metadata": {
        "id": "Iqc7Oa8hgMgC",
        "colab": {
          "base_uri": "https://localhost:8080/"
        },
        "outputId": "e046ed0f-aac0-4d94-fd75-477ad84d9dbc"
      },
      "execution_count": 42,
      "outputs": [
        {
          "output_type": "stream",
          "name": "stdout",
          "text": [
            "7/7 [==============================] - 0s 3ms/step - loss: 0.0931 - sparse_categorical_accuracy: 0.9621\n",
            "7/7 [==============================] - 0s 2ms/step\n",
            "Test accuracy: 0.9620853066444397\n"
          ]
        }
      ]
    },
    {
      "cell_type": "markdown",
      "source": [
        "Matriz de Confusión"
      ],
      "metadata": {
        "id": "7VIKsZ3vpz1u"
      }
    },
    {
      "cell_type": "code",
      "source": [
        "conf_matrx=metrics.confusion_matrix(dataset_test_label,dataset_test_predictions)\n",
        "labels=np.unique(dataset_test_label)\n",
        "plt.figure(figsize=(8,6))\n",
        "seaborn.heatmap(conf_matrx,annot=True,fmt='d',cmap='Blues',xticklabels=labels,yticklabels=labels)\n",
        "plt.xlabel('Predictions')\n",
        "plt.ylabel('True Values')\n",
        "plt.title('Confusion Matrix')\n",
        "plt.show()"
      ],
      "metadata": {
        "colab": {
          "base_uri": "https://localhost:8080/",
          "height": 564
        },
        "id": "nFVwf2oilDFo",
        "outputId": "cb957393-7ffe-45ac-b236-e872b163287f"
      },
      "execution_count": 43,
      "outputs": [
        {
          "output_type": "display_data",
          "data": {
            "text/plain": [
              "<Figure size 800x600 with 2 Axes>"
            ],
            "image/png": "[encoded data removed]"
          },
          "metadata": {}
        }
      ]
    }
  ]
}